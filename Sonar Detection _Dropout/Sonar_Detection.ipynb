{
 "cells": [
  {
   "cell_type": "markdown",
   "id": "c7e4b319",
   "metadata": {},
   "source": [
    "# Dropout Regularization In Deep Neural Network\n",
    "\n",
    "Dataset that describes sonar chirp returns bouncing off different services. The 60 input variables are the strength of the returns at different angles. A binary classification problem that requires a model to differentiate rocks from metal cylinders.\n",
    "\n",
    "Dataset information: https://archive.ics.uci.edu/ml/datasets/Connectionist+Bench+(Sonar,+Mines+vs.+Rocks) Download Dataset: https://archive.ics.uci.edu/ml/machine-learning-databases/undocumented/connectionist-bench/sonar/sonar.all-data"
   ]
  },
  {
   "cell_type": "code",
   "execution_count": 2,
   "id": "2e87cc54",
   "metadata": {},
   "outputs": [],
   "source": [
    "import pandas as pd\n",
    "import numpy as np\n",
    "import matplotlib.pyplot as plt\n",
    "import seaborn as sb"
   ]
  },
  {
   "cell_type": "code",
   "execution_count": 105,
   "id": "5c31998d",
   "metadata": {},
   "outputs": [],
   "source": [
    "import warnings\n",
    "warnings.filterwarnings('ignore')"
   ]
  },
  {
   "cell_type": "code",
   "execution_count": 10,
   "id": "50138870",
   "metadata": {},
   "outputs": [
    {
     "data": {
      "text/html": [
       "<div>\n",
       "<style scoped>\n",
       "    .dataframe tbody tr th:only-of-type {\n",
       "        vertical-align: middle;\n",
       "    }\n",
       "\n",
       "    .dataframe tbody tr th {\n",
       "        vertical-align: top;\n",
       "    }\n",
       "\n",
       "    .dataframe thead th {\n",
       "        text-align: right;\n",
       "    }\n",
       "</style>\n",
       "<table border=\"1\" class=\"dataframe\">\n",
       "  <thead>\n",
       "    <tr style=\"text-align: right;\">\n",
       "      <th></th>\n",
       "      <th>0</th>\n",
       "      <th>1</th>\n",
       "      <th>2</th>\n",
       "      <th>3</th>\n",
       "      <th>4</th>\n",
       "      <th>5</th>\n",
       "      <th>6</th>\n",
       "      <th>7</th>\n",
       "      <th>8</th>\n",
       "      <th>9</th>\n",
       "      <th>...</th>\n",
       "      <th>51</th>\n",
       "      <th>52</th>\n",
       "      <th>53</th>\n",
       "      <th>54</th>\n",
       "      <th>55</th>\n",
       "      <th>56</th>\n",
       "      <th>57</th>\n",
       "      <th>58</th>\n",
       "      <th>59</th>\n",
       "      <th>60</th>\n",
       "    </tr>\n",
       "  </thead>\n",
       "  <tbody>\n",
       "    <tr>\n",
       "      <th>0</th>\n",
       "      <td>0.0200</td>\n",
       "      <td>0.0371</td>\n",
       "      <td>0.0428</td>\n",
       "      <td>0.0207</td>\n",
       "      <td>0.0954</td>\n",
       "      <td>0.0986</td>\n",
       "      <td>0.1539</td>\n",
       "      <td>0.1601</td>\n",
       "      <td>0.3109</td>\n",
       "      <td>0.2111</td>\n",
       "      <td>...</td>\n",
       "      <td>0.0027</td>\n",
       "      <td>0.0065</td>\n",
       "      <td>0.0159</td>\n",
       "      <td>0.0072</td>\n",
       "      <td>0.0167</td>\n",
       "      <td>0.0180</td>\n",
       "      <td>0.0084</td>\n",
       "      <td>0.0090</td>\n",
       "      <td>0.0032</td>\n",
       "      <td>R</td>\n",
       "    </tr>\n",
       "    <tr>\n",
       "      <th>1</th>\n",
       "      <td>0.0453</td>\n",
       "      <td>0.0523</td>\n",
       "      <td>0.0843</td>\n",
       "      <td>0.0689</td>\n",
       "      <td>0.1183</td>\n",
       "      <td>0.2583</td>\n",
       "      <td>0.2156</td>\n",
       "      <td>0.3481</td>\n",
       "      <td>0.3337</td>\n",
       "      <td>0.2872</td>\n",
       "      <td>...</td>\n",
       "      <td>0.0084</td>\n",
       "      <td>0.0089</td>\n",
       "      <td>0.0048</td>\n",
       "      <td>0.0094</td>\n",
       "      <td>0.0191</td>\n",
       "      <td>0.0140</td>\n",
       "      <td>0.0049</td>\n",
       "      <td>0.0052</td>\n",
       "      <td>0.0044</td>\n",
       "      <td>R</td>\n",
       "    </tr>\n",
       "    <tr>\n",
       "      <th>2</th>\n",
       "      <td>0.0262</td>\n",
       "      <td>0.0582</td>\n",
       "      <td>0.1099</td>\n",
       "      <td>0.1083</td>\n",
       "      <td>0.0974</td>\n",
       "      <td>0.2280</td>\n",
       "      <td>0.2431</td>\n",
       "      <td>0.3771</td>\n",
       "      <td>0.5598</td>\n",
       "      <td>0.6194</td>\n",
       "      <td>...</td>\n",
       "      <td>0.0232</td>\n",
       "      <td>0.0166</td>\n",
       "      <td>0.0095</td>\n",
       "      <td>0.0180</td>\n",
       "      <td>0.0244</td>\n",
       "      <td>0.0316</td>\n",
       "      <td>0.0164</td>\n",
       "      <td>0.0095</td>\n",
       "      <td>0.0078</td>\n",
       "      <td>R</td>\n",
       "    </tr>\n",
       "    <tr>\n",
       "      <th>3</th>\n",
       "      <td>0.0100</td>\n",
       "      <td>0.0171</td>\n",
       "      <td>0.0623</td>\n",
       "      <td>0.0205</td>\n",
       "      <td>0.0205</td>\n",
       "      <td>0.0368</td>\n",
       "      <td>0.1098</td>\n",
       "      <td>0.1276</td>\n",
       "      <td>0.0598</td>\n",
       "      <td>0.1264</td>\n",
       "      <td>...</td>\n",
       "      <td>0.0121</td>\n",
       "      <td>0.0036</td>\n",
       "      <td>0.0150</td>\n",
       "      <td>0.0085</td>\n",
       "      <td>0.0073</td>\n",
       "      <td>0.0050</td>\n",
       "      <td>0.0044</td>\n",
       "      <td>0.0040</td>\n",
       "      <td>0.0117</td>\n",
       "      <td>R</td>\n",
       "    </tr>\n",
       "    <tr>\n",
       "      <th>4</th>\n",
       "      <td>0.0762</td>\n",
       "      <td>0.0666</td>\n",
       "      <td>0.0481</td>\n",
       "      <td>0.0394</td>\n",
       "      <td>0.0590</td>\n",
       "      <td>0.0649</td>\n",
       "      <td>0.1209</td>\n",
       "      <td>0.2467</td>\n",
       "      <td>0.3564</td>\n",
       "      <td>0.4459</td>\n",
       "      <td>...</td>\n",
       "      <td>0.0031</td>\n",
       "      <td>0.0054</td>\n",
       "      <td>0.0105</td>\n",
       "      <td>0.0110</td>\n",
       "      <td>0.0015</td>\n",
       "      <td>0.0072</td>\n",
       "      <td>0.0048</td>\n",
       "      <td>0.0107</td>\n",
       "      <td>0.0094</td>\n",
       "      <td>R</td>\n",
       "    </tr>\n",
       "    <tr>\n",
       "      <th>5</th>\n",
       "      <td>0.0286</td>\n",
       "      <td>0.0453</td>\n",
       "      <td>0.0277</td>\n",
       "      <td>0.0174</td>\n",
       "      <td>0.0384</td>\n",
       "      <td>0.0990</td>\n",
       "      <td>0.1201</td>\n",
       "      <td>0.1833</td>\n",
       "      <td>0.2105</td>\n",
       "      <td>0.3039</td>\n",
       "      <td>...</td>\n",
       "      <td>0.0045</td>\n",
       "      <td>0.0014</td>\n",
       "      <td>0.0038</td>\n",
       "      <td>0.0013</td>\n",
       "      <td>0.0089</td>\n",
       "      <td>0.0057</td>\n",
       "      <td>0.0027</td>\n",
       "      <td>0.0051</td>\n",
       "      <td>0.0062</td>\n",
       "      <td>R</td>\n",
       "    </tr>\n",
       "    <tr>\n",
       "      <th>6</th>\n",
       "      <td>0.0317</td>\n",
       "      <td>0.0956</td>\n",
       "      <td>0.1321</td>\n",
       "      <td>0.1408</td>\n",
       "      <td>0.1674</td>\n",
       "      <td>0.1710</td>\n",
       "      <td>0.0731</td>\n",
       "      <td>0.1401</td>\n",
       "      <td>0.2083</td>\n",
       "      <td>0.3513</td>\n",
       "      <td>...</td>\n",
       "      <td>0.0201</td>\n",
       "      <td>0.0248</td>\n",
       "      <td>0.0131</td>\n",
       "      <td>0.0070</td>\n",
       "      <td>0.0138</td>\n",
       "      <td>0.0092</td>\n",
       "      <td>0.0143</td>\n",
       "      <td>0.0036</td>\n",
       "      <td>0.0103</td>\n",
       "      <td>R</td>\n",
       "    </tr>\n",
       "    <tr>\n",
       "      <th>7</th>\n",
       "      <td>0.0519</td>\n",
       "      <td>0.0548</td>\n",
       "      <td>0.0842</td>\n",
       "      <td>0.0319</td>\n",
       "      <td>0.1158</td>\n",
       "      <td>0.0922</td>\n",
       "      <td>0.1027</td>\n",
       "      <td>0.0613</td>\n",
       "      <td>0.1465</td>\n",
       "      <td>0.2838</td>\n",
       "      <td>...</td>\n",
       "      <td>0.0081</td>\n",
       "      <td>0.0120</td>\n",
       "      <td>0.0045</td>\n",
       "      <td>0.0121</td>\n",
       "      <td>0.0097</td>\n",
       "      <td>0.0085</td>\n",
       "      <td>0.0047</td>\n",
       "      <td>0.0048</td>\n",
       "      <td>0.0053</td>\n",
       "      <td>R</td>\n",
       "    </tr>\n",
       "    <tr>\n",
       "      <th>8</th>\n",
       "      <td>0.0223</td>\n",
       "      <td>0.0375</td>\n",
       "      <td>0.0484</td>\n",
       "      <td>0.0475</td>\n",
       "      <td>0.0647</td>\n",
       "      <td>0.0591</td>\n",
       "      <td>0.0753</td>\n",
       "      <td>0.0098</td>\n",
       "      <td>0.0684</td>\n",
       "      <td>0.1487</td>\n",
       "      <td>...</td>\n",
       "      <td>0.0145</td>\n",
       "      <td>0.0128</td>\n",
       "      <td>0.0145</td>\n",
       "      <td>0.0058</td>\n",
       "      <td>0.0049</td>\n",
       "      <td>0.0065</td>\n",
       "      <td>0.0093</td>\n",
       "      <td>0.0059</td>\n",
       "      <td>0.0022</td>\n",
       "      <td>R</td>\n",
       "    </tr>\n",
       "    <tr>\n",
       "      <th>9</th>\n",
       "      <td>0.0164</td>\n",
       "      <td>0.0173</td>\n",
       "      <td>0.0347</td>\n",
       "      <td>0.0070</td>\n",
       "      <td>0.0187</td>\n",
       "      <td>0.0671</td>\n",
       "      <td>0.1056</td>\n",
       "      <td>0.0697</td>\n",
       "      <td>0.0962</td>\n",
       "      <td>0.0251</td>\n",
       "      <td>...</td>\n",
       "      <td>0.0090</td>\n",
       "      <td>0.0223</td>\n",
       "      <td>0.0179</td>\n",
       "      <td>0.0084</td>\n",
       "      <td>0.0068</td>\n",
       "      <td>0.0032</td>\n",
       "      <td>0.0035</td>\n",
       "      <td>0.0056</td>\n",
       "      <td>0.0040</td>\n",
       "      <td>R</td>\n",
       "    </tr>\n",
       "  </tbody>\n",
       "</table>\n",
       "<p>10 rows × 61 columns</p>\n",
       "</div>"
      ],
      "text/plain": [
       "       0       1       2       3       4       5       6       7       8   \\\n",
       "0  0.0200  0.0371  0.0428  0.0207  0.0954  0.0986  0.1539  0.1601  0.3109   \n",
       "1  0.0453  0.0523  0.0843  0.0689  0.1183  0.2583  0.2156  0.3481  0.3337   \n",
       "2  0.0262  0.0582  0.1099  0.1083  0.0974  0.2280  0.2431  0.3771  0.5598   \n",
       "3  0.0100  0.0171  0.0623  0.0205  0.0205  0.0368  0.1098  0.1276  0.0598   \n",
       "4  0.0762  0.0666  0.0481  0.0394  0.0590  0.0649  0.1209  0.2467  0.3564   \n",
       "5  0.0286  0.0453  0.0277  0.0174  0.0384  0.0990  0.1201  0.1833  0.2105   \n",
       "6  0.0317  0.0956  0.1321  0.1408  0.1674  0.1710  0.0731  0.1401  0.2083   \n",
       "7  0.0519  0.0548  0.0842  0.0319  0.1158  0.0922  0.1027  0.0613  0.1465   \n",
       "8  0.0223  0.0375  0.0484  0.0475  0.0647  0.0591  0.0753  0.0098  0.0684   \n",
       "9  0.0164  0.0173  0.0347  0.0070  0.0187  0.0671  0.1056  0.0697  0.0962   \n",
       "\n",
       "       9   ...      51      52      53      54      55      56      57  \\\n",
       "0  0.2111  ...  0.0027  0.0065  0.0159  0.0072  0.0167  0.0180  0.0084   \n",
       "1  0.2872  ...  0.0084  0.0089  0.0048  0.0094  0.0191  0.0140  0.0049   \n",
       "2  0.6194  ...  0.0232  0.0166  0.0095  0.0180  0.0244  0.0316  0.0164   \n",
       "3  0.1264  ...  0.0121  0.0036  0.0150  0.0085  0.0073  0.0050  0.0044   \n",
       "4  0.4459  ...  0.0031  0.0054  0.0105  0.0110  0.0015  0.0072  0.0048   \n",
       "5  0.3039  ...  0.0045  0.0014  0.0038  0.0013  0.0089  0.0057  0.0027   \n",
       "6  0.3513  ...  0.0201  0.0248  0.0131  0.0070  0.0138  0.0092  0.0143   \n",
       "7  0.2838  ...  0.0081  0.0120  0.0045  0.0121  0.0097  0.0085  0.0047   \n",
       "8  0.1487  ...  0.0145  0.0128  0.0145  0.0058  0.0049  0.0065  0.0093   \n",
       "9  0.0251  ...  0.0090  0.0223  0.0179  0.0084  0.0068  0.0032  0.0035   \n",
       "\n",
       "       58      59  60  \n",
       "0  0.0090  0.0032   R  \n",
       "1  0.0052  0.0044   R  \n",
       "2  0.0095  0.0078   R  \n",
       "3  0.0040  0.0117   R  \n",
       "4  0.0107  0.0094   R  \n",
       "5  0.0051  0.0062   R  \n",
       "6  0.0036  0.0103   R  \n",
       "7  0.0048  0.0053   R  \n",
       "8  0.0059  0.0022   R  \n",
       "9  0.0056  0.0040   R  \n",
       "\n",
       "[10 rows x 61 columns]"
      ]
     },
     "execution_count": 10,
     "metadata": {},
     "output_type": "execute_result"
    }
   ],
   "source": [
    "df = pd.read_csv('sonar_dataset.csv',header = None)\n",
    "df[:10]"
   ]
  },
  {
   "cell_type": "code",
   "execution_count": 11,
   "id": "e3409d48",
   "metadata": {},
   "outputs": [
    {
     "data": {
      "text/plain": [
       "(208, 61)"
      ]
     },
     "execution_count": 11,
     "metadata": {},
     "output_type": "execute_result"
    }
   ],
   "source": [
    "df.shape"
   ]
  },
  {
   "cell_type": "code",
   "execution_count": 17,
   "id": "2d9986e5",
   "metadata": {},
   "outputs": [
    {
     "data": {
      "text/plain": [
       "0     0\n",
       "1     0\n",
       "2     0\n",
       "3     0\n",
       "4     0\n",
       "     ..\n",
       "56    0\n",
       "57    0\n",
       "58    0\n",
       "59    0\n",
       "60    0\n",
       "Length: 61, dtype: int64"
      ]
     },
     "execution_count": 17,
     "metadata": {},
     "output_type": "execute_result"
    }
   ],
   "source": [
    "df.isna().sum()"
   ]
  },
  {
   "cell_type": "code",
   "execution_count": 18,
   "id": "cfffcd58",
   "metadata": {},
   "outputs": [
    {
     "data": {
      "text/plain": [
       "Index([ 0,  1,  2,  3,  4,  5,  6,  7,  8,  9, 10, 11, 12, 13, 14, 15, 16, 17,\n",
       "       18, 19, 20, 21, 22, 23, 24, 25, 26, 27, 28, 29, 30, 31, 32, 33, 34, 35,\n",
       "       36, 37, 38, 39, 40, 41, 42, 43, 44, 45, 46, 47, 48, 49, 50, 51, 52, 53,\n",
       "       54, 55, 56, 57, 58, 59, 60],\n",
       "      dtype='int64')"
      ]
     },
     "execution_count": 18,
     "metadata": {},
     "output_type": "execute_result"
    }
   ],
   "source": [
    "df.columns"
   ]
  },
  {
   "cell_type": "code",
   "execution_count": 20,
   "id": "79b74a66",
   "metadata": {
    "scrolled": true
   },
   "outputs": [
    {
     "data": {
      "text/plain": [
       "0      R\n",
       "1      R\n",
       "2      R\n",
       "3      R\n",
       "4      R\n",
       "      ..\n",
       "203    M\n",
       "204    M\n",
       "205    M\n",
       "206    M\n",
       "207    M\n",
       "Name: 60, Length: 208, dtype: object"
      ]
     },
     "execution_count": 20,
     "metadata": {},
     "output_type": "execute_result"
    }
   ],
   "source": [
    "df[60] # the output columns that has to be split form this df"
   ]
  },
  {
   "cell_type": "code",
   "execution_count": 22,
   "id": "726e39f7",
   "metadata": {},
   "outputs": [
    {
     "data": {
      "text/plain": [
       "60\n",
       "M    111\n",
       "R     97\n",
       "Name: count, dtype: int64"
      ]
     },
     "execution_count": 22,
     "metadata": {},
     "output_type": "execute_result"
    }
   ],
   "source": [
    "df[60].value_counts() # analysing the column and finding how many 'M' and 'R'"
   ]
  },
  {
   "cell_type": "code",
   "execution_count": 24,
   "id": "1294f09a",
   "metadata": {},
   "outputs": [],
   "source": [
    "X = df.drop(60, axis=1) # dropping col 60 and splitting to two data sets X and y\n",
    "y = df[60]"
   ]
  },
  {
   "cell_type": "code",
   "execution_count": 45,
   "id": "9ab26234",
   "metadata": {
    "scrolled": true
   },
   "outputs": [
    {
     "data": {
      "text/plain": [
       "(R\n",
       " 0    111\n",
       " 1     97\n",
       " Name: count, dtype: int64,\n",
       "      R\n",
       " 0    1\n",
       " 1    1\n",
       " 2    1\n",
       " 3    1\n",
       " 4    1\n",
       " ..  ..\n",
       " 203  0\n",
       " 204  0\n",
       " 205  0\n",
       " 206  0\n",
       " 207  0\n",
       " \n",
       " [208 rows x 1 columns])"
      ]
     },
     "execution_count": 45,
     "metadata": {},
     "output_type": "execute_result"
    }
   ],
   "source": [
    "# 'ONE HOT ENCODING' changing all 'M' and 'R' values to 1 and 0 using one hot encoding\n",
    "y = pd.get_dummies(y, drop_first=True)\n",
    "y = y.astype(int)\n",
    "y.value_counts() ,y"
   ]
  },
  {
   "cell_type": "code",
   "execution_count": 145,
   "id": "a01605bb",
   "metadata": {},
   "outputs": [],
   "source": [
    "# Creating Training and testing set from df\n",
    "\n",
    "from sklearn.model_selection import train_test_split\n",
    "X_train, X_test, y_train, y_test = train_test_split(X, y, test_size=0.35, random_state=1)"
   ]
  },
  {
   "cell_type": "code",
   "execution_count": 146,
   "id": "8e3df473",
   "metadata": {},
   "outputs": [
    {
     "data": {
      "text/plain": [
       "(135, 60)"
      ]
     },
     "execution_count": 146,
     "metadata": {},
     "output_type": "execute_result"
    }
   ],
   "source": [
    "X_train.shape"
   ]
  },
  {
   "cell_type": "markdown",
   "id": "1270408f",
   "metadata": {},
   "source": [
    "## Applying Deep leanring Model \n",
    "### Without Droupout"
   ]
  },
  {
   "cell_type": "code",
   "execution_count": 49,
   "id": "3d956cf4",
   "metadata": {},
   "outputs": [],
   "source": [
    "import tensorflow as tf\n",
    "from tensorflow import keras"
   ]
  },
  {
   "cell_type": "code",
   "execution_count": 147,
   "id": "b243a315",
   "metadata": {
    "scrolled": true
   },
   "outputs": [
    {
     "name": "stdout",
     "output_type": "stream",
     "text": [
      "Epoch 1/100\n",
      "17/17 [==============================] - 0s 522us/step - loss: 0.6861 - accuracy: 0.5556\n",
      "Epoch 2/100\n",
      "17/17 [==============================] - 0s 462us/step - loss: 0.6708 - accuracy: 0.6148\n",
      "Epoch 3/100\n",
      "17/17 [==============================] - 0s 484us/step - loss: 0.6522 - accuracy: 0.6519\n",
      "Epoch 4/100\n",
      "17/17 [==============================] - 0s 427us/step - loss: 0.6402 - accuracy: 0.6741\n",
      "Epoch 5/100\n",
      "17/17 [==============================] - 0s 461us/step - loss: 0.6079 - accuracy: 0.6889\n",
      "Epoch 6/100\n",
      "17/17 [==============================] - 0s 447us/step - loss: 0.5757 - accuracy: 0.7407\n",
      "Epoch 7/100\n",
      "17/17 [==============================] - 0s 442us/step - loss: 0.5427 - accuracy: 0.7630\n",
      "Epoch 8/100\n",
      "17/17 [==============================] - 0s 428us/step - loss: 0.5295 - accuracy: 0.7630\n",
      "Epoch 9/100\n",
      "17/17 [==============================] - 0s 457us/step - loss: 0.4777 - accuracy: 0.7778\n",
      "Epoch 10/100\n",
      "17/17 [==============================] - 0s 445us/step - loss: 0.4626 - accuracy: 0.8074\n",
      "Epoch 11/100\n",
      "17/17 [==============================] - 0s 448us/step - loss: 0.4190 - accuracy: 0.7926\n",
      "Epoch 12/100\n",
      "17/17 [==============================] - 0s 426us/step - loss: 0.4049 - accuracy: 0.8222\n",
      "Epoch 13/100\n",
      "17/17 [==============================] - 0s 442us/step - loss: 0.3669 - accuracy: 0.8519\n",
      "Epoch 14/100\n",
      "17/17 [==============================] - 0s 446us/step - loss: 0.4247 - accuracy: 0.7630\n",
      "Epoch 15/100\n",
      "17/17 [==============================] - 0s 438us/step - loss: 0.3504 - accuracy: 0.8519\n",
      "Epoch 16/100\n",
      "17/17 [==============================] - 0s 425us/step - loss: 0.3331 - accuracy: 0.8667\n",
      "Epoch 17/100\n",
      "17/17 [==============================] - 0s 460us/step - loss: 0.3151 - accuracy: 0.8741\n",
      "Epoch 18/100\n",
      "17/17 [==============================] - 0s 434us/step - loss: 0.2901 - accuracy: 0.8963\n",
      "Epoch 19/100\n",
      "17/17 [==============================] - 0s 426us/step - loss: 0.2916 - accuracy: 0.8963\n",
      "Epoch 20/100\n",
      "17/17 [==============================] - 0s 428us/step - loss: 0.2865 - accuracy: 0.8741\n",
      "Epoch 21/100\n",
      "17/17 [==============================] - 0s 429us/step - loss: 0.2540 - accuracy: 0.8963\n",
      "Epoch 22/100\n",
      "17/17 [==============================] - 0s 420us/step - loss: 0.2484 - accuracy: 0.9037\n",
      "Epoch 23/100\n",
      "17/17 [==============================] - 0s 423us/step - loss: 0.2389 - accuracy: 0.9185\n",
      "Epoch 24/100\n",
      "17/17 [==============================] - 0s 416us/step - loss: 0.2210 - accuracy: 0.9259\n",
      "Epoch 25/100\n",
      "17/17 [==============================] - 0s 404us/step - loss: 0.2126 - accuracy: 0.9185\n",
      "Epoch 26/100\n",
      "17/17 [==============================] - 0s 415us/step - loss: 0.2143 - accuracy: 0.9111\n",
      "Epoch 27/100\n",
      "17/17 [==============================] - 0s 422us/step - loss: 0.2006 - accuracy: 0.9259\n",
      "Epoch 28/100\n",
      "17/17 [==============================] - 0s 431us/step - loss: 0.1887 - accuracy: 0.9556\n",
      "Epoch 29/100\n",
      "17/17 [==============================] - 0s 409us/step - loss: 0.1975 - accuracy: 0.9259\n",
      "Epoch 30/100\n",
      "17/17 [==============================] - 0s 426us/step - loss: 0.2172 - accuracy: 0.9037\n",
      "Epoch 31/100\n",
      "17/17 [==============================] - 0s 416us/step - loss: 0.1717 - accuracy: 0.9407\n",
      "Epoch 32/100\n",
      "17/17 [==============================] - 0s 413us/step - loss: 0.1658 - accuracy: 0.9407\n",
      "Epoch 33/100\n",
      "17/17 [==============================] - 0s 409us/step - loss: 0.1529 - accuracy: 0.9407\n",
      "Epoch 34/100\n",
      "17/17 [==============================] - 0s 426us/step - loss: 0.1468 - accuracy: 0.9407\n",
      "Epoch 35/100\n",
      "17/17 [==============================] - 0s 413us/step - loss: 0.1487 - accuracy: 0.9630\n",
      "Epoch 36/100\n",
      "17/17 [==============================] - 0s 426us/step - loss: 0.1417 - accuracy: 0.9630\n",
      "Epoch 37/100\n",
      "17/17 [==============================] - 0s 412us/step - loss: 0.1233 - accuracy: 0.9556\n",
      "Epoch 38/100\n",
      "17/17 [==============================] - 0s 411us/step - loss: 0.1450 - accuracy: 0.9481\n",
      "Epoch 39/100\n",
      "17/17 [==============================] - 0s 401us/step - loss: 0.1309 - accuracy: 0.9630\n",
      "Epoch 40/100\n",
      "17/17 [==============================] - 0s 412us/step - loss: 0.1219 - accuracy: 0.9556\n",
      "Epoch 41/100\n",
      "17/17 [==============================] - 0s 411us/step - loss: 0.1065 - accuracy: 0.9630\n",
      "Epoch 42/100\n",
      "17/17 [==============================] - 0s 405us/step - loss: 0.0941 - accuracy: 0.9852\n",
      "Epoch 43/100\n",
      "17/17 [==============================] - 0s 411us/step - loss: 0.0883 - accuracy: 0.9704\n",
      "Epoch 44/100\n",
      "17/17 [==============================] - 0s 425us/step - loss: 0.0878 - accuracy: 0.9778\n",
      "Epoch 45/100\n",
      "17/17 [==============================] - 0s 420us/step - loss: 0.0912 - accuracy: 0.9704\n",
      "Epoch 46/100\n",
      "17/17 [==============================] - 0s 404us/step - loss: 0.0801 - accuracy: 0.9778\n",
      "Epoch 47/100\n",
      "17/17 [==============================] - 0s 420us/step - loss: 0.0780 - accuracy: 0.9778\n",
      "Epoch 48/100\n",
      "17/17 [==============================] - 0s 414us/step - loss: 0.0722 - accuracy: 0.9852\n",
      "Epoch 49/100\n",
      "17/17 [==============================] - 0s 422us/step - loss: 0.0657 - accuracy: 0.9926\n",
      "Epoch 50/100\n",
      "17/17 [==============================] - 0s 411us/step - loss: 0.0786 - accuracy: 0.9704\n",
      "Epoch 51/100\n",
      "17/17 [==============================] - 0s 418us/step - loss: 0.0616 - accuracy: 0.9926\n",
      "Epoch 52/100\n",
      "17/17 [==============================] - 0s 419us/step - loss: 0.0713 - accuracy: 0.9852\n",
      "Epoch 53/100\n",
      "17/17 [==============================] - 0s 417us/step - loss: 0.0934 - accuracy: 0.9778\n",
      "Epoch 54/100\n",
      "17/17 [==============================] - 0s 411us/step - loss: 0.0684 - accuracy: 0.9704\n",
      "Epoch 55/100\n",
      "17/17 [==============================] - 0s 410us/step - loss: 0.0486 - accuracy: 0.9926\n",
      "Epoch 56/100\n",
      "17/17 [==============================] - 0s 413us/step - loss: 0.0505 - accuracy: 0.9926\n",
      "Epoch 57/100\n",
      "17/17 [==============================] - 0s 423us/step - loss: 0.0386 - accuracy: 1.0000\n",
      "Epoch 58/100\n",
      "17/17 [==============================] - 0s 420us/step - loss: 0.0462 - accuracy: 0.9926\n",
      "Epoch 59/100\n",
      "17/17 [==============================] - 0s 405us/step - loss: 0.0480 - accuracy: 0.9926\n",
      "Epoch 60/100\n",
      "17/17 [==============================] - 0s 404us/step - loss: 0.0794 - accuracy: 0.9704\n",
      "Epoch 61/100\n",
      "17/17 [==============================] - 0s 416us/step - loss: 0.0339 - accuracy: 1.0000\n",
      "Epoch 62/100\n",
      "17/17 [==============================] - 0s 425us/step - loss: 0.0404 - accuracy: 0.9926\n",
      "Epoch 63/100\n",
      "17/17 [==============================] - 0s 416us/step - loss: 0.0574 - accuracy: 0.9704\n",
      "Epoch 64/100\n",
      "17/17 [==============================] - 0s 419us/step - loss: 0.0370 - accuracy: 1.0000\n",
      "Epoch 65/100\n",
      "17/17 [==============================] - 0s 422us/step - loss: 0.0295 - accuracy: 0.9852\n",
      "Epoch 66/100\n",
      "17/17 [==============================] - 0s 421us/step - loss: 0.0663 - accuracy: 0.9704\n",
      "Epoch 67/100\n",
      "17/17 [==============================] - 0s 401us/step - loss: 0.0808 - accuracy: 0.9778\n",
      "Epoch 68/100\n",
      "17/17 [==============================] - 0s 412us/step - loss: 0.0375 - accuracy: 0.9852\n",
      "Epoch 69/100\n",
      "17/17 [==============================] - 0s 415us/step - loss: 0.0295 - accuracy: 0.9852\n",
      "Epoch 70/100\n",
      "17/17 [==============================] - 0s 419us/step - loss: 0.0435 - accuracy: 0.9852\n",
      "Epoch 71/100\n",
      "17/17 [==============================] - 0s 406us/step - loss: 0.0254 - accuracy: 1.0000\n",
      "Epoch 72/100\n",
      "17/17 [==============================] - 0s 407us/step - loss: 0.0192 - accuracy: 1.0000\n",
      "Epoch 73/100\n",
      "17/17 [==============================] - 0s 414us/step - loss: 0.0176 - accuracy: 1.0000\n",
      "Epoch 74/100\n",
      "17/17 [==============================] - 0s 425us/step - loss: 0.0173 - accuracy: 1.0000\n",
      "Epoch 75/100\n",
      "17/17 [==============================] - 0s 418us/step - loss: 0.0152 - accuracy: 1.0000\n",
      "Epoch 76/100\n",
      "17/17 [==============================] - 0s 404us/step - loss: 0.0152 - accuracy: 1.0000\n",
      "Epoch 77/100\n",
      "17/17 [==============================] - 0s 412us/step - loss: 0.0141 - accuracy: 1.0000\n",
      "Epoch 78/100\n",
      "17/17 [==============================] - 0s 430us/step - loss: 0.0131 - accuracy: 1.0000\n",
      "Epoch 79/100\n",
      "17/17 [==============================] - 0s 418us/step - loss: 0.0123 - accuracy: 1.0000\n",
      "Epoch 80/100\n",
      "17/17 [==============================] - 0s 397us/step - loss: 0.0127 - accuracy: 1.0000\n",
      "Epoch 81/100\n"
     ]
    },
    {
     "name": "stdout",
     "output_type": "stream",
     "text": [
      "17/17 [==============================] - 0s 437us/step - loss: 0.0137 - accuracy: 1.0000\n",
      "Epoch 82/100\n",
      "17/17 [==============================] - 0s 411us/step - loss: 0.0121 - accuracy: 1.0000\n",
      "Epoch 83/100\n",
      "17/17 [==============================] - 0s 412us/step - loss: 0.0116 - accuracy: 1.0000\n",
      "Epoch 84/100\n",
      "17/17 [==============================] - 0s 430us/step - loss: 0.0110 - accuracy: 1.0000\n",
      "Epoch 85/100\n",
      "17/17 [==============================] - 0s 445us/step - loss: 0.0102 - accuracy: 1.0000\n",
      "Epoch 86/100\n",
      "17/17 [==============================] - 0s 429us/step - loss: 0.0121 - accuracy: 1.0000\n",
      "Epoch 87/100\n",
      "17/17 [==============================] - 0s 425us/step - loss: 0.0087 - accuracy: 1.0000\n",
      "Epoch 88/100\n",
      "17/17 [==============================] - 0s 421us/step - loss: 0.0091 - accuracy: 1.0000\n",
      "Epoch 89/100\n",
      "17/17 [==============================] - 0s 422us/step - loss: 0.0092 - accuracy: 1.0000\n",
      "Epoch 90/100\n",
      "17/17 [==============================] - 0s 406us/step - loss: 0.0084 - accuracy: 1.0000\n",
      "Epoch 91/100\n",
      "17/17 [==============================] - 0s 426us/step - loss: 0.0080 - accuracy: 1.0000\n",
      "Epoch 92/100\n",
      "17/17 [==============================] - 0s 419us/step - loss: 0.0074 - accuracy: 1.0000\n",
      "Epoch 93/100\n",
      "17/17 [==============================] - 0s 417us/step - loss: 0.0078 - accuracy: 1.0000\n",
      "Epoch 94/100\n",
      "17/17 [==============================] - 0s 425us/step - loss: 0.0082 - accuracy: 1.0000\n",
      "Epoch 95/100\n",
      "17/17 [==============================] - 0s 413us/step - loss: 0.0068 - accuracy: 1.0000\n",
      "Epoch 96/100\n",
      "17/17 [==============================] - 0s 417us/step - loss: 0.0066 - accuracy: 1.0000\n",
      "Epoch 97/100\n",
      "17/17 [==============================] - 0s 412us/step - loss: 0.0070 - accuracy: 1.0000\n",
      "Epoch 98/100\n",
      "17/17 [==============================] - 0s 407us/step - loss: 0.0064 - accuracy: 1.0000\n",
      "Epoch 99/100\n",
      "17/17 [==============================] - 0s 417us/step - loss: 0.0061 - accuracy: 1.0000\n",
      "Epoch 100/100\n",
      "17/17 [==============================] - 0s 425us/step - loss: 0.0058 - accuracy: 1.0000\n"
     ]
    },
    {
     "data": {
      "text/plain": [
       "<keras.src.callbacks.History at 0x29217a810>"
      ]
     },
     "execution_count": 147,
     "metadata": {},
     "output_type": "execute_result"
    }
   ],
   "source": [
    "#Modelling Layers, compilation and model fitting\n",
    "model_1 = keras.Sequential([\n",
    "    keras.layers.Dense(60, input_shape = (60,), activation = 'relu'),\n",
    "    keras.layers.Dense(30, activation = 'relu'),\n",
    "    keras.layers.Dense(15, activation = 'relu'),\n",
    "    keras.layers.Dense(1, activation = 'sigmoid')\n",
    "])\n",
    "\n",
    "model_1.compile(\n",
    "    loss = 'binary_crossentropy',\n",
    "    optimizer = 'adam',\n",
    "    metrics = 'accuracy'\n",
    ")\n",
    "\n",
    "model_1.fit(X_train, y_train, epochs=100, batch_size=8)"
   ]
  },
  {
   "cell_type": "code",
   "execution_count": 148,
   "id": "e86e4807",
   "metadata": {
    "scrolled": true
   },
   "outputs": [
    {
     "name": "stdout",
     "output_type": "stream",
     "text": [
      "3/3 [==============================] - 0s 914us/step - loss: 0.7522 - accuracy: 0.7534\n"
     ]
    },
    {
     "data": {
      "text/plain": [
       "[0.752241849899292, 0.7534246444702148]"
      ]
     },
     "execution_count": 148,
     "metadata": {},
     "output_type": "execute_result"
    }
   ],
   "source": [
    "model_1.evaluate(X_test, y_test)"
   ]
  },
  {
   "cell_type": "code",
   "execution_count": 149,
   "id": "2df981a2",
   "metadata": {
    "scrolled": true
   },
   "outputs": [
    {
     "name": "stdout",
     "output_type": "stream",
     "text": [
      "3/3 [==============================] - 0s 876us/step\n"
     ]
    },
    {
     "data": {
      "text/plain": [
       "array([[0., 1., 0., 0., 1., 1., 0., 1., 0., 1.]], dtype=float32)"
      ]
     },
     "execution_count": 149,
     "metadata": {},
     "output_type": "execute_result"
    }
   ],
   "source": [
    "y1_pred = model_1.predict(X_test)\n",
    "#y1_pred[:5]\n",
    "y1_pred = np.round(y1_pred)\n",
    "y1_pred[:10].T"
   ]
  },
  {
   "cell_type": "code",
   "execution_count": 150,
   "id": "ec82f652",
   "metadata": {
    "scrolled": false
   },
   "outputs": [
    {
     "data": {
      "text/plain": [
       "((73, 1), (73, 1))"
      ]
     },
     "execution_count": 150,
     "metadata": {},
     "output_type": "execute_result"
    }
   ],
   "source": [
    "#y_test[:10].T\n",
    "y_test.shape,y1_pred.shape"
   ]
  },
  {
   "cell_type": "code",
   "execution_count": 151,
   "id": "8f7011ab",
   "metadata": {
    "scrolled": true
   },
   "outputs": [
    {
     "name": "stdout",
     "output_type": "stream",
     "text": [
      "              precision    recall  f1-score   support\n",
      "\n",
      "           0       0.71      0.83      0.77        36\n",
      "           1       0.81      0.68      0.74        37\n",
      "\n",
      "    accuracy                           0.75        73\n",
      "   macro avg       0.76      0.75      0.75        73\n",
      "weighted avg       0.76      0.75      0.75        73\n",
      "\n"
     ]
    }
   ],
   "source": [
    "from sklearn.metrics import confusion_matrix, classification_report\n",
    "print(classification_report(y_test,y1_pred))"
   ]
  },
  {
   "cell_type": "code",
   "execution_count": 152,
   "id": "8750380e",
   "metadata": {},
   "outputs": [],
   "source": [
    "# Changing predition values to one dimentional to plot comfusion matrix\n",
    "y_pred_new = []\n",
    "for element in y1_pred:\n",
    "    if element == 0:\n",
    "        y_pred_new.append(0)\n",
    "    else:\n",
    "        y_pred_new.append(1)"
   ]
  },
  {
   "cell_type": "code",
   "execution_count": 153,
   "id": "05c68597",
   "metadata": {
    "scrolled": true
   },
   "outputs": [
    {
     "data": {
      "text/plain": [
       "Text(58.222222222222214, 0.5, 'Y_Truth')"
      ]
     },
     "execution_count": 153,
     "metadata": {},
     "output_type": "execute_result"
    },
    {
     "data": {
      "image/png": "[encoded data removed]",
      "text/plain": [
       "<Figure size 700x500 with 2 Axes>"
      ]
     },
     "metadata": {},
     "output_type": "display_data"
    }
   ],
   "source": [
    "cm = tf.math.confusion_matrix(labels=y_test, predictions=y_pred_new)\n",
    "\n",
    "plt.figure(figsize = (7,5))\n",
    "sb.heatmap(cm,annot=True, fmt='d')\n",
    "plt.xlabel('Predicted')\n",
    "plt.ylabel('Y_Truth')"
   ]
  },
  {
   "cell_type": "markdown",
   "id": "903da80f",
   "metadata": {},
   "source": [
    "## Model with Dropout layer"
   ]
  },
  {
   "cell_type": "code",
   "execution_count": 154,
   "id": "0b7ce6cf",
   "metadata": {
    "scrolled": true
   },
   "outputs": [
    {
     "name": "stdout",
     "output_type": "stream",
     "text": [
      "Epoch 1/100\n",
      "17/17 [==============================] - 0s 526us/step - loss: 0.7027 - accuracy: 0.4963\n",
      "Epoch 2/100\n",
      "17/17 [==============================] - 0s 485us/step - loss: 0.6923 - accuracy: 0.5185\n",
      "Epoch 3/100\n",
      "17/17 [==============================] - 0s 476us/step - loss: 0.6749 - accuracy: 0.5926\n",
      "Epoch 4/100\n",
      "17/17 [==============================] - 0s 409us/step - loss: 0.6605 - accuracy: 0.6370\n",
      "Epoch 5/100\n",
      "17/17 [==============================] - 0s 399us/step - loss: 0.6462 - accuracy: 0.6741\n",
      "Epoch 6/100\n",
      "17/17 [==============================] - 0s 426us/step - loss: 0.6137 - accuracy: 0.6593\n",
      "Epoch 7/100\n",
      "17/17 [==============================] - 0s 443us/step - loss: 0.6083 - accuracy: 0.7259\n",
      "Epoch 8/100\n",
      "17/17 [==============================] - 0s 434us/step - loss: 0.5616 - accuracy: 0.7111\n",
      "Epoch 9/100\n",
      "17/17 [==============================] - 0s 453us/step - loss: 0.5672 - accuracy: 0.7407\n",
      "Epoch 10/100\n",
      "17/17 [==============================] - 0s 456us/step - loss: 0.5060 - accuracy: 0.7926\n",
      "Epoch 11/100\n",
      "17/17 [==============================] - 0s 439us/step - loss: 0.5310 - accuracy: 0.7556\n",
      "Epoch 12/100\n",
      "17/17 [==============================] - 0s 437us/step - loss: 0.5177 - accuracy: 0.7926\n",
      "Epoch 13/100\n",
      "17/17 [==============================] - 0s 473us/step - loss: 0.4485 - accuracy: 0.8074\n",
      "Epoch 14/100\n",
      "17/17 [==============================] - 0s 454us/step - loss: 0.4290 - accuracy: 0.7926\n",
      "Epoch 15/100\n",
      "17/17 [==============================] - 0s 449us/step - loss: 0.4234 - accuracy: 0.8074\n",
      "Epoch 16/100\n",
      "17/17 [==============================] - 0s 438us/step - loss: 0.4102 - accuracy: 0.8296\n",
      "Epoch 17/100\n",
      "17/17 [==============================] - 0s 475us/step - loss: 0.3799 - accuracy: 0.8519\n",
      "Epoch 18/100\n",
      "17/17 [==============================] - 0s 465us/step - loss: 0.3574 - accuracy: 0.8815\n",
      "Epoch 19/100\n",
      "17/17 [==============================] - 0s 447us/step - loss: 0.3621 - accuracy: 0.8667\n",
      "Epoch 20/100\n",
      "17/17 [==============================] - 0s 432us/step - loss: 0.2891 - accuracy: 0.9185\n",
      "Epoch 21/100\n",
      "17/17 [==============================] - 0s 457us/step - loss: 0.3312 - accuracy: 0.8519\n",
      "Epoch 22/100\n",
      "17/17 [==============================] - 0s 444us/step - loss: 0.2862 - accuracy: 0.8889\n",
      "Epoch 23/100\n",
      "17/17 [==============================] - 0s 442us/step - loss: 0.3110 - accuracy: 0.8667\n",
      "Epoch 24/100\n",
      "17/17 [==============================] - 0s 441us/step - loss: 0.2740 - accuracy: 0.9037\n",
      "Epoch 25/100\n",
      "17/17 [==============================] - 0s 437us/step - loss: 0.2328 - accuracy: 0.9407\n",
      "Epoch 26/100\n",
      "17/17 [==============================] - 0s 436us/step - loss: 0.2890 - accuracy: 0.8593\n",
      "Epoch 27/100\n",
      "17/17 [==============================] - 0s 445us/step - loss: 0.2156 - accuracy: 0.8963\n",
      "Epoch 28/100\n",
      "17/17 [==============================] - 0s 434us/step - loss: 0.2393 - accuracy: 0.9185\n",
      "Epoch 29/100\n",
      "17/17 [==============================] - 0s 434us/step - loss: 0.2026 - accuracy: 0.9407\n",
      "Epoch 30/100\n",
      "17/17 [==============================] - 0s 437us/step - loss: 0.1832 - accuracy: 0.9333\n",
      "Epoch 31/100\n",
      "17/17 [==============================] - 0s 444us/step - loss: 0.1639 - accuracy: 0.9481\n",
      "Epoch 32/100\n",
      "17/17 [==============================] - 0s 432us/step - loss: 0.1940 - accuracy: 0.9259\n",
      "Epoch 33/100\n",
      "17/17 [==============================] - 0s 437us/step - loss: 0.1580 - accuracy: 0.9556\n",
      "Epoch 34/100\n",
      "17/17 [==============================] - 0s 435us/step - loss: 0.1683 - accuracy: 0.9556\n",
      "Epoch 35/100\n",
      "17/17 [==============================] - 0s 445us/step - loss: 0.1918 - accuracy: 0.9111\n",
      "Epoch 36/100\n",
      "17/17 [==============================] - 0s 437us/step - loss: 0.2285 - accuracy: 0.8667\n",
      "Epoch 37/100\n",
      "17/17 [==============================] - 0s 422us/step - loss: 0.1872 - accuracy: 0.9333\n",
      "Epoch 38/100\n",
      "17/17 [==============================] - 0s 430us/step - loss: 0.1691 - accuracy: 0.9481\n",
      "Epoch 39/100\n",
      "17/17 [==============================] - 0s 1ms/step - loss: 0.1008 - accuracy: 0.9778\n",
      "Epoch 40/100\n",
      "17/17 [==============================] - 0s 489us/step - loss: 0.1345 - accuracy: 0.9481\n",
      "Epoch 41/100\n",
      "17/17 [==============================] - 0s 457us/step - loss: 0.1294 - accuracy: 0.9556\n",
      "Epoch 42/100\n",
      "17/17 [==============================] - 0s 452us/step - loss: 0.1141 - accuracy: 0.9704\n",
      "Epoch 43/100\n",
      "17/17 [==============================] - 0s 489us/step - loss: 0.1157 - accuracy: 0.9630\n",
      "Epoch 44/100\n",
      "17/17 [==============================] - 0s 444us/step - loss: 0.1065 - accuracy: 0.9556\n",
      "Epoch 45/100\n",
      "17/17 [==============================] - 0s 450us/step - loss: 0.0901 - accuracy: 0.9704\n",
      "Epoch 46/100\n",
      "17/17 [==============================] - 0s 458us/step - loss: 0.1085 - accuracy: 0.9778\n",
      "Epoch 47/100\n",
      "17/17 [==============================] - 0s 490us/step - loss: 0.1041 - accuracy: 0.9630\n",
      "Epoch 48/100\n",
      "17/17 [==============================] - 0s 454us/step - loss: 0.1367 - accuracy: 0.9556\n",
      "Epoch 49/100\n",
      "17/17 [==============================] - 0s 451us/step - loss: 0.1061 - accuracy: 0.9704\n",
      "Epoch 50/100\n",
      "17/17 [==============================] - 0s 437us/step - loss: 0.0974 - accuracy: 0.9556\n",
      "Epoch 51/100\n",
      "17/17 [==============================] - 0s 450us/step - loss: 0.1106 - accuracy: 0.9333\n",
      "Epoch 52/100\n",
      "17/17 [==============================] - 0s 456us/step - loss: 0.0814 - accuracy: 0.9852\n",
      "Epoch 53/100\n",
      "17/17 [==============================] - 0s 443us/step - loss: 0.0919 - accuracy: 0.9630\n",
      "Epoch 54/100\n",
      "17/17 [==============================] - 0s 439us/step - loss: 0.0512 - accuracy: 0.9926\n",
      "Epoch 55/100\n",
      "17/17 [==============================] - 0s 456us/step - loss: 0.0531 - accuracy: 0.9852\n",
      "Epoch 56/100\n",
      "17/17 [==============================] - 0s 450us/step - loss: 0.0810 - accuracy: 0.9630\n",
      "Epoch 57/100\n",
      "17/17 [==============================] - 0s 439us/step - loss: 0.0738 - accuracy: 0.9778\n",
      "Epoch 58/100\n",
      "17/17 [==============================] - 0s 436us/step - loss: 0.0522 - accuracy: 0.9778\n",
      "Epoch 59/100\n",
      "17/17 [==============================] - 0s 441us/step - loss: 0.0833 - accuracy: 0.9704\n",
      "Epoch 60/100\n",
      "17/17 [==============================] - 0s 447us/step - loss: 0.0353 - accuracy: 1.0000\n",
      "Epoch 61/100\n",
      "17/17 [==============================] - 0s 431us/step - loss: 0.0554 - accuracy: 0.9852\n",
      "Epoch 62/100\n",
      "17/17 [==============================] - 0s 429us/step - loss: 0.0453 - accuracy: 0.9852\n",
      "Epoch 63/100\n",
      "17/17 [==============================] - 0s 430us/step - loss: 0.0995 - accuracy: 0.9481\n",
      "Epoch 64/100\n",
      "17/17 [==============================] - 0s 428us/step - loss: 0.0862 - accuracy: 0.9704\n",
      "Epoch 65/100\n",
      "17/17 [==============================] - 0s 438us/step - loss: 0.0506 - accuracy: 0.9926\n",
      "Epoch 66/100\n",
      "17/17 [==============================] - 0s 443us/step - loss: 0.0574 - accuracy: 0.9852\n",
      "Epoch 67/100\n",
      "17/17 [==============================] - 0s 435us/step - loss: 0.0621 - accuracy: 0.9778\n",
      "Epoch 68/100\n",
      "17/17 [==============================] - 0s 434us/step - loss: 0.0321 - accuracy: 1.0000\n",
      "Epoch 69/100\n",
      "17/17 [==============================] - 0s 441us/step - loss: 0.0407 - accuracy: 0.9926\n",
      "Epoch 70/100\n",
      "17/17 [==============================] - 0s 442us/step - loss: 0.0739 - accuracy: 0.9630\n",
      "Epoch 71/100\n",
      "17/17 [==============================] - 0s 431us/step - loss: 0.0395 - accuracy: 0.9778\n",
      "Epoch 72/100\n",
      "17/17 [==============================] - 0s 443us/step - loss: 0.0329 - accuracy: 1.0000\n",
      "Epoch 73/100\n",
      "17/17 [==============================] - 0s 433us/step - loss: 0.0343 - accuracy: 0.9852\n",
      "Epoch 74/100\n",
      "17/17 [==============================] - 0s 438us/step - loss: 0.0385 - accuracy: 0.9926\n",
      "Epoch 75/100\n",
      "17/17 [==============================] - 0s 434us/step - loss: 0.0239 - accuracy: 1.0000\n",
      "Epoch 76/100\n",
      "17/17 [==============================] - 0s 425us/step - loss: 0.0736 - accuracy: 0.9704\n",
      "Epoch 77/100\n",
      "17/17 [==============================] - 0s 445us/step - loss: 0.0293 - accuracy: 1.0000\n",
      "Epoch 78/100\n",
      "17/17 [==============================] - 0s 444us/step - loss: 0.0246 - accuracy: 0.9926\n",
      "Epoch 79/100\n",
      "17/17 [==============================] - 0s 426us/step - loss: 0.0236 - accuracy: 1.0000\n",
      "Epoch 80/100\n",
      "17/17 [==============================] - 0s 437us/step - loss: 0.0328 - accuracy: 0.9926\n",
      "Epoch 81/100\n"
     ]
    },
    {
     "name": "stdout",
     "output_type": "stream",
     "text": [
      "17/17 [==============================] - 0s 434us/step - loss: 0.0566 - accuracy: 0.9778\n",
      "Epoch 82/100\n",
      "17/17 [==============================] - 0s 441us/step - loss: 0.0374 - accuracy: 0.9852\n",
      "Epoch 83/100\n",
      "17/17 [==============================] - 0s 426us/step - loss: 0.0220 - accuracy: 1.0000\n",
      "Epoch 84/100\n",
      "17/17 [==============================] - 0s 440us/step - loss: 0.0445 - accuracy: 0.9852\n",
      "Epoch 85/100\n",
      "17/17 [==============================] - 0s 434us/step - loss: 0.0273 - accuracy: 0.9926\n",
      "Epoch 86/100\n",
      "17/17 [==============================] - 0s 444us/step - loss: 0.0201 - accuracy: 1.0000\n",
      "Epoch 87/100\n",
      "17/17 [==============================] - 0s 431us/step - loss: 0.0247 - accuracy: 0.9926\n",
      "Epoch 88/100\n",
      "17/17 [==============================] - 0s 440us/step - loss: 0.0558 - accuracy: 0.9704\n",
      "Epoch 89/100\n",
      "17/17 [==============================] - 0s 432us/step - loss: 0.0500 - accuracy: 0.9704\n",
      "Epoch 90/100\n",
      "17/17 [==============================] - 0s 443us/step - loss: 0.0775 - accuracy: 0.9630\n",
      "Epoch 91/100\n",
      "17/17 [==============================] - 0s 442us/step - loss: 0.0307 - accuracy: 0.9926\n",
      "Epoch 92/100\n",
      "17/17 [==============================] - 0s 441us/step - loss: 0.0659 - accuracy: 0.9630\n",
      "Epoch 93/100\n",
      "17/17 [==============================] - 0s 438us/step - loss: 0.0185 - accuracy: 1.0000\n",
      "Epoch 94/100\n",
      "17/17 [==============================] - 0s 441us/step - loss: 0.0263 - accuracy: 1.0000\n",
      "Epoch 95/100\n",
      "17/17 [==============================] - 0s 436us/step - loss: 0.0281 - accuracy: 0.9852\n",
      "Epoch 96/100\n",
      "17/17 [==============================] - 0s 441us/step - loss: 0.0298 - accuracy: 0.9852\n",
      "Epoch 97/100\n",
      "17/17 [==============================] - 0s 432us/step - loss: 0.0135 - accuracy: 1.0000\n",
      "Epoch 98/100\n",
      "17/17 [==============================] - 0s 486us/step - loss: 0.0220 - accuracy: 0.9926\n",
      "Epoch 99/100\n",
      "17/17 [==============================] - 0s 558us/step - loss: 0.0140 - accuracy: 1.0000\n",
      "Epoch 100/100\n",
      "17/17 [==============================] - 0s 656us/step - loss: 0.0084 - accuracy: 1.0000\n"
     ]
    },
    {
     "data": {
      "text/plain": [
       "<keras.src.callbacks.History at 0x2917b0310>"
      ]
     },
     "execution_count": 154,
     "metadata": {},
     "output_type": "execute_result"
    }
   ],
   "source": [
    "#Modelling Layers, compilation and model fitting\n",
    "model_2 = keras.Sequential([\n",
    "    keras.layers.Dense(60, input_shape = (60,), activation = 'relu'),\n",
    "    keras.layers.Dropout(0.1),  # Droupout rate 50%\n",
    "    keras.layers.Dense(30, activation = 'relu'),\n",
    "    keras.layers.Dropout(0.1),\n",
    "    keras.layers.Dense(15, activation = 'relu'),\n",
    "    keras.layers.Dropout(0.1),\n",
    "    keras.layers.Dense(1, activation = 'sigmoid')\n",
    "])\n",
    "\n",
    "model_2.compile(\n",
    "    loss = 'binary_crossentropy',\n",
    "    optimizer = 'adam',\n",
    "    metrics = 'accuracy'\n",
    ")\n",
    "\n",
    "model_2.fit(X_train, y_train, epochs=100, batch_size=8)"
   ]
  },
  {
   "cell_type": "code",
   "execution_count": 155,
   "id": "024bcb55",
   "metadata": {},
   "outputs": [
    {
     "name": "stdout",
     "output_type": "stream",
     "text": [
      "3/3 [==============================] - 0s 916us/step - loss: 0.6640 - accuracy: 0.8219\n"
     ]
    },
    {
     "data": {
      "text/plain": [
       "[0.6639694571495056, 0.8219178318977356]"
      ]
     },
     "execution_count": 155,
     "metadata": {},
     "output_type": "execute_result"
    }
   ],
   "source": [
    "model_2.evaluate(X_test, y_test)"
   ]
  },
  {
   "cell_type": "code",
   "execution_count": 156,
   "id": "30646472",
   "metadata": {
    "scrolled": true
   },
   "outputs": [
    {
     "name": "stdout",
     "output_type": "stream",
     "text": [
      "3/3 [==============================] - 0s 809us/step\n"
     ]
    },
    {
     "data": {
      "text/plain": [
       "array([[0., 1., 1., 0., 1., 1., 0., 1., 0., 1.]], dtype=float32)"
      ]
     },
     "execution_count": 156,
     "metadata": {},
     "output_type": "execute_result"
    }
   ],
   "source": [
    "y2_pred = model_2.predict(X_test)\n",
    "#y1_pred[:5]\n",
    "y2_pred = np.round(y2_pred)\n",
    "y2_pred[:10].T"
   ]
  },
  {
   "cell_type": "code",
   "execution_count": 157,
   "id": "d00c94de",
   "metadata": {
    "scrolled": true
   },
   "outputs": [
    {
     "name": "stdout",
     "output_type": "stream",
     "text": [
      "              precision    recall  f1-score   support\n",
      "\n",
      "           0       0.79      0.86      0.83        36\n",
      "           1       0.85      0.78      0.82        37\n",
      "\n",
      "    accuracy                           0.82        73\n",
      "   macro avg       0.82      0.82      0.82        73\n",
      "weighted avg       0.82      0.82      0.82        73\n",
      "\n"
     ]
    }
   ],
   "source": [
    "from sklearn.metrics import confusion_matrix, classification_report\n",
    "print(classification_report(y_test,y2_pred))"
   ]
  },
  {
   "cell_type": "code",
   "execution_count": 158,
   "id": "6da4913a",
   "metadata": {},
   "outputs": [],
   "source": [
    "# Changing predition values to one dimentional to plot comfusion matrix\n",
    "y_pred_new = []\n",
    "for element in y2_pred:\n",
    "    if element == 0:\n",
    "        y_pred_new.append(0)\n",
    "    else:\n",
    "        y_pred_new.append(1)"
   ]
  },
  {
   "cell_type": "code",
   "execution_count": 159,
   "id": "2632907d",
   "metadata": {
    "scrolled": false
   },
   "outputs": [
    {
     "data": {
      "text/plain": [
       "Text(58.222222222222214, 0.5, 'Y_Truth')"
      ]
     },
     "execution_count": 159,
     "metadata": {},
     "output_type": "execute_result"
    },
    {
     "data": {
      "image/png": "[encoded data removed]",
      "text/plain": [
       "<Figure size 700x500 with 2 Axes>"
      ]
     },
     "metadata": {},
     "output_type": "display_data"
    }
   ],
   "source": [
    "cm2 = tf.math.confusion_matrix(labels=y_test, predictions=y_pred_new)\n",
    "\n",
    "plt.figure(figsize = (7,5))\n",
    "sb.heatmap(cm2,annot=True, fmt='d')\n",
    "plt.xlabel('Predicted')\n",
    "plt.ylabel('Y_Truth')"
   ]
  }
 ],
 "metadata": {
  "kernelspec": {
   "display_name": "Python 3 (ipykernel)",
   "language": "python",
   "name": "python3"
  },
  "language_info": {
   "codemirror_mode": {
    "name": "ipython",
    "version": 3
   },
   "file_extension": ".py",
   "mimetype": "text/x-python",
   "name": "python",
   "nbconvert_exporter": "python",
   "pygments_lexer": "ipython3",
   "version": "3.11.5"
  }
 },
 "nbformat": 4,
 "nbformat_minor": 5
}
